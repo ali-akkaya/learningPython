{
 "cells": [
  {
   "cell_type": "markdown",
   "source": [
    "In Python, objects can be split into two categories. Mutable and immutable.\n",
    "\n",
    "Mutable is when something can changeable or has the ability to change. In Python, 'mutable' is the ability of objects to change their values.\n",
    "Immutable is the when no change is possible over time. In Python, if the value of an object cannot be changed over time, then it is known as immutable. Once created, the value of these objects is permanent.\n",
    "\n",
    "Built-in mutable objects are: Lists, Sets, Dictionaries, User-defined Classes (depends on implementation)\n",
    "Built-in immutable objects are: Numbers, Strings, Tuples, Frozen Sets, User-defined Classes (depends on implementation)\n",
    "\n",
    "Every object in Python has these three attributes:\n",
    "- Identity: Address of computer memory that object located\n",
    "- Type: Type of object such as integer, string, list\n",
    "- Value: Value stored in object"
   ],
   "metadata": {
    "collapsed": false,
    "pycharm": {
     "name": "#%% md\n"
    }
   }
  },
  {
   "cell_type": "markdown",
   "source": [
    "Let's create a mutable object and see how these areas affected."
   ],
   "metadata": {
    "collapsed": false,
    "pycharm": {
     "name": "#%% md\n"
    }
   }
  },
  {
   "cell_type": "code",
   "execution_count": 2,
   "metadata": {
    "collapsed": true,
    "pycharm": {
     "name": "#%%\n"
    }
   },
   "outputs": [
    {
     "name": "stdout",
     "output_type": "stream",
     "text": [
      "['Adana', 'Ankara', 'Denizli']\n",
      "0x7f9ef0cfdc00\n"
     ]
    }
   ],
   "source": [
    "cityList = ['Adana','Ankara','Denizli']\n",
    "print(cityList)\n",
    "# Below line shows us address of cityList in memory\n",
    "print(hex(id(cityList)))"
   ]
  },
  {
   "cell_type": "markdown",
   "source": [
    "When we add new value and changed cityList let's see what will will happen."
   ],
   "metadata": {
    "collapsed": false,
    "pycharm": {
     "name": "#%% md\n"
    }
   }
  },
  {
   "cell_type": "code",
   "execution_count": 3,
   "outputs": [
    {
     "name": "stdout",
     "output_type": "stream",
     "text": [
      "['Adana', 'Ankara', 'Denizli', 'Mersin']\n",
      "0x7f9ef0cfdc00\n"
     ]
    }
   ],
   "source": [
    "cityList.append('Mersin')\n",
    "print(cityList)\n",
    "print(hex(id(cityList)))"
   ],
   "metadata": {
    "collapsed": false,
    "pycharm": {
     "name": "#%%\n"
    }
   }
  },
  {
   "cell_type": "markdown",
   "source": [
    "As you can see our id didn't change. So we can change internal state of object (list in this example) however our memory address is still same."
   ],
   "metadata": {
    "collapsed": false,
    "pycharm": {
     "name": "#%% md\n"
    }
   }
  },
  {
   "cell_type": "markdown",
   "source": [
    "Now let us look at immutable object example"
   ],
   "metadata": {
    "collapsed": false,
    "pycharm": {
     "name": "#%% md\n"
    }
   }
  },
  {
   "cell_type": "code",
   "execution_count": 6,
   "outputs": [
    {
     "name": "stdout",
     "output_type": "stream",
     "text": [
      "Adana\n"
     ]
    }
   ],
   "source": [
    "cityTuple = ('Adana','Ankara')\n",
    "print(cityTuple[0])\n",
    "#cityTuple[0] = 'Denizli'"
   ],
   "metadata": {
    "collapsed": false,
    "pycharm": {
     "name": "#%%\n"
    }
   }
  },
  {
   "cell_type": "markdown",
   "source": [
    "When you run the above code with uncommenting the line you will get the error message saying \"'tuple' object does not support item assignment\". Because tuples are immutable objects. Let's look at another example."
   ],
   "metadata": {
    "collapsed": false,
    "pycharm": {
     "name": "#%% md\n"
    }
   }
  },
  {
   "cell_type": "code",
   "execution_count": 7,
   "outputs": [
    {
     "name": "stdout",
     "output_type": "stream",
     "text": [
      "Adana\n",
      "0x7f9f103695b0\n",
      "Ankara\n",
      "0x7f9f103cda70\n"
     ]
    }
   ],
   "source": [
    "cityString = 'Adana'\n",
    "print(cityString)\n",
    "print(hex(id(cityString)))\n",
    "cityString = 'Ankara'\n",
    "print(cityString)\n",
    "print(hex(id(cityString)))"
   ],
   "metadata": {
    "collapsed": false,
    "pycharm": {
     "name": "#%%\n"
    }
   }
  },
  {
   "cell_type": "markdown",
   "source": [
    "In the above example we used the same variable name 'cityString' that is referencing string object. When  we changed the value of the object it's address in memory also changed. We weere not able to change internal state of the object 'cityString'. Python Program Manager created a new object in the memory address. So, our string object is immutable."
   ],
   "metadata": {
    "collapsed": false,
    "pycharm": {
     "name": "#%% md\n"
    }
   }
  },
  {
   "cell_type": "markdown",
   "source": [
    "Also, for better understanding see below example"
   ],
   "metadata": {
    "collapsed": false,
    "pycharm": {
     "name": "#%% md\n"
    }
   }
  },
  {
   "cell_type": "code",
   "execution_count": 25,
   "outputs": [
    {
     "name": "stdout",
     "output_type": "stream",
     "text": [
      "15, 15\n",
      "0x7f9f2002eaf0\n",
      "0x7f9f2002eaf0\n",
      "0x7f9f2002eb10\n",
      "0x7f9f2002eaf0\n"
     ]
    }
   ],
   "source": [
    "x = 15\n",
    "y = x\n",
    "print (x,y, sep=', ')\n",
    "print(hex(id(x)))\n",
    "print(hex(id(y)))\n",
    "x = x+1\n",
    "print(hex(id(x)))\n",
    "print(hex(id(y)))"
   ],
   "metadata": {
    "collapsed": false,
    "pycharm": {
     "name": "#%%\n"
    }
   }
  },
  {
   "cell_type": "markdown",
   "source": [
    "As you can see in the above part firstly both of our x and y variable was referring the same value with the same memory address. Then we changed the value of x and now our x turned into a new object by Python Program Manager. However, y is still referring to value 10 with th e same memory address.\n",
    "Lastly, to get better understanding check the below code and try to understand which variables refer to which memory address."
   ],
   "metadata": {
    "collapsed": false,
    "pycharm": {
     "name": "#%% md\n"
    }
   }
  },
  {
   "cell_type": "code",
   "execution_count": 21,
   "outputs": [
    {
     "name": "stdout",
     "output_type": "stream",
     "text": [
      "0x7f9f103cda70\n",
      "0x7f9f10369b70\n",
      "0x7f9f103cda70\n"
     ]
    }
   ],
   "source": [
    "print(hex(id(cityTuple[1])))\n",
    "print(hex(id(cityList[2])))\n",
    "print(hex(id(cityString)))"
   ],
   "metadata": {
    "collapsed": false,
    "pycharm": {
     "name": "#%%\n"
    }
   }
  },
  {
   "cell_type": "markdown",
   "source": [
    "Mutable objects are useful when you need to change the size of the object you created. ON the other hand, if you want to ensure that your object always stay the same, immutable object will be better."
   ],
   "metadata": {
    "collapsed": false,
    "pycharm": {
     "name": "#%% md\n"
    }
   }
  }
 ],
 "metadata": {
  "kernelspec": {
   "display_name": "Python 3",
   "language": "python",
   "name": "python3"
  },
  "language_info": {
   "codemirror_mode": {
    "name": "ipython",
    "version": 2
   },
   "file_extension": ".py",
   "mimetype": "text/x-python",
   "name": "python",
   "nbconvert_exporter": "python",
   "pygments_lexer": "ipython2",
   "version": "2.7.6"
  }
 },
 "nbformat": 4,
 "nbformat_minor": 0
}